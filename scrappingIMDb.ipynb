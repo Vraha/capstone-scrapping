{
 "cells": [
  {
   "cell_type": "markdown",
   "metadata": {},
   "source": [
    "# Web Scrapping 7 film terpopuler tahun 2019 berdasarkan votes di IMDb\n",
    "\n",
    "Kita akan mengambil data yang disediakan oleh Web IMDb yang sudah di sort berdasarkan popularitas, kemudian kita akan mengambil 7 film dengan peringkat teratas."
   ]
  },
  {
   "cell_type": "code",
   "execution_count": 2,
   "metadata": {},
   "outputs": [
    {
     "name": "stdout",
     "output_type": "stream",
     "text": [
      "Collecting requests\n",
      "  Downloading requests-2.24.0-py2.py3-none-any.whl (61 kB)\n",
      "Collecting idna<3,>=2.5\n",
      "  Downloading idna-2.10-py2.py3-none-any.whl (58 kB)\n",
      "Collecting chardet<4,>=3.0.2\n",
      "  Downloading chardet-3.0.4-py2.py3-none-any.whl (133 kB)\n",
      "Collecting urllib3!=1.25.0,!=1.25.1,<1.26,>=1.21.1\n",
      "  Downloading urllib3-1.25.10-py2.py3-none-any.whl (127 kB)\n",
      "Requirement already satisfied: certifi>=2017.4.17 in c:\\users\\ahenr\\anaconda3\\envs\\scrapping\\lib\\site-packages (from requests) (2020.6.20)\n",
      "Installing collected packages: idna, chardet, urllib3, requests\n",
      "Successfully installed chardet-3.0.4 idna-2.10 requests-2.24.0 urllib3-1.25.10\n"
     ]
    }
   ],
   "source": [
    "!pip install requests"
   ]
  },
  {
   "cell_type": "code",
   "execution_count": 36,
   "metadata": {
    "ExecuteTime": {
     "end_time": "2020-01-13T05:12:23.275508Z",
     "start_time": "2020-01-13T05:12:20.009898Z"
    }
   },
   "outputs": [],
   "source": [
    "import requests\n",
    "\n",
    "url_get = requests.get('https://www.imdb.com/search/title/?release_date=2019-01-01,2019-12-31&sort=num_votes,desc&view=advanced')"
   ]
  },
  {
   "cell_type": "markdown",
   "metadata": {},
   "source": [
    "Selanjutnya kita akan melakukan sedikit slicing untuk melihat sneak peek dari data yang kita peroleh"
   ]
  },
  {
   "cell_type": "code",
   "execution_count": 37,
   "metadata": {
    "ExecuteTime": {
     "end_time": "2020-01-13T05:12:23.290648Z",
     "start_time": "2020-01-13T05:12:23.277650Z"
    }
   },
   "outputs": [
    {
     "data": {
      "text/plain": [
       "b'\\n\\n<!DOCTYPE html>\\n<html\\n    xmlns:og=\"http://ogp.me/ns#\"\\n    xmlns:fb=\"http://www.facebook.com/2008/fbml\">\\n    <head>\\n         \\n        <meta charset=\"utf-8\">\\n        <meta http-equiv=\"X-UA-Compatible\" content=\"IE=edge\">\\n\\n    <meta name=\"apple-itunes-app\" content=\"app-id=342792525, app-argument=imdb:///?src=mdot\">\\n\\n\\n\\n        <script type=\"text/javascript\">var IMDbTimer={starttime: new Date().getTime(),pt:\\'java\\'};</script>\\n\\n<script>\\n    if (typeof uet == \\'function\\') {\\n      uet(\"bb\", \"LoadTitle\", {wb: 1});\\n    }\\n</script>\\n  <script>(function(t){ (t.events = t.events || {})[\"csm_head_pre_title\"] = new Date().getTime(); })(IMDbTimer);</script>\\n        <title>Released between 2019-01-01 and 2019-12-31\\n(Sorted by Number of Votes Descending) - IMDb</title>\\n  <script>(function(t){ (t.events = t.events || {})[\"csm_head_post_title\"] = new Date().getTime(); })(IMDbTimer);</script>\\n<script>\\n    if (typeof uet == \\'function\\') {\\n      uet(\"be\", \"LoadTitle\", {wb: 1});\\n    }\\n</script>\\n<script>\\n    if'"
      ]
     },
     "execution_count": 37,
     "metadata": {},
     "output_type": "execute_result"
    }
   ],
   "source": [
    "url_get.content[1:1000]"
   ]
  },
  {
   "cell_type": "markdown",
   "metadata": {},
   "source": [
    "Berikutnya kita akan menggunakan BeautifulSoup untuk merapikan konten dari url yang kita request sebelumnya"
   ]
  },
  {
   "cell_type": "code",
   "execution_count": 38,
   "metadata": {
    "ExecuteTime": {
     "end_time": "2020-01-13T05:12:23.808122Z",
     "start_time": "2020-01-13T05:12:23.292610Z"
    }
   },
   "outputs": [
    {
     "name": "stdout",
     "output_type": "stream",
     "text": [
      "<class 'bs4.BeautifulSoup'>\n"
     ]
    }
   ],
   "source": [
    "from bs4 import BeautifulSoup \n",
    "\n",
    "soup = BeautifulSoup(url_get.content,\"html.parser\")\n",
    "print(type(soup))"
   ]
  },
  {
   "cell_type": "markdown",
   "metadata": {},
   "source": [
    "Setelah kita prettify, konten URL yang kita request tadi sekarang sudah lebih rapi dan lebih mudah dibaca."
   ]
  },
  {
   "cell_type": "code",
   "execution_count": 39,
   "metadata": {
    "ExecuteTime": {
     "end_time": "2020-01-13T05:12:23.851033Z",
     "start_time": "2020-01-13T05:12:23.810086Z"
    }
   },
   "outputs": [
    {
     "name": "stdout",
     "output_type": "stream",
     "text": [
      " class=\"clear\"/>\n",
      "        <div class=\"lister list detail sub-list\">\n",
      "         <div class=\"lister-list\">\n",
      "          <div class=\"lister-item mode-advanced\">\n",
      "           <div class=\"lister-top-right\">\n",
      "            <div class=\"ribbonize\" data-caller=\"filmosearch\" data-tconst=\"tt7286456\">\n",
      "            </div>\n",
      "           </div>\n",
      "           <div class=\"lister-item-image float-left\">\n",
      "            <a href=\"/title/tt7286456/\">\n",
      "             <img alt=\"Joker\" class=\"loadlate\" data-tconst=\"tt7286456\" height=\"98\" loadlate=\"https://m.media-amazon.com/images/M/MV5BNGVjNWI4ZGUtNzE0MS00YTJmLWE0ZDctN2ZiYTk2YmI3NTYyXkEyXkFqcGdeQXVyMTkxNjUyNQ@@._V1_UX67_CR0,0,67,98_AL_.jpg\" src=\"https://m.media-amazon.com/images/G/01/imdb/images/nopicture/large/film-184890147._CB466725069_.png\" width=\"67\"/>\n",
      "            </a>\n",
      "           </div>\n",
      "           <div class=\"lister-item-content\">\n"
     ]
    }
   ],
   "source": [
    "print(soup.prettify()[99150:100000])"
   ]
  },
  {
   "cell_type": "markdown",
   "metadata": {},
   "source": [
    "Selanjutnya kita akan menggunakan method find untuk menemukan data-data yang kita inginkan, yaitu: Judul, IMDb rating, Metascore (bila ada), dan jumlah votes nya. Langkah awal kita akan mengambil data dari class lister-list terlebih dahulu, yang merupakan container dari list film yang akan kita telusuri lebih dalam pada step-step berikutnya."
   ]
  },
  {
   "cell_type": "code",
   "execution_count": 40,
   "metadata": {
    "ExecuteTime": {
     "end_time": "2020-01-13T05:12:23.878904Z",
     "start_time": "2020-01-13T05:12:23.854974Z"
    }
   },
   "outputs": [
    {
     "name": "stdout",
     "output_type": "stream",
     "text": [
      "<div class=\"lister-list\">\n",
      " <div class=\"lister-item mode-advanced\">\n",
      "  <div class=\"lister-top-right\">\n",
      "   <div class=\"ribbonize\" data-caller=\"filmosearch\" data-tconst=\"tt7286456\">\n",
      "   </div>\n",
      "  </div>\n",
      "  <div class=\"lister-item-image float-left\">\n",
      "   <a href=\"/title/tt7286456/\">\n",
      "    <img alt=\"Joker\" class=\"loadlate\" data-tconst=\"tt7286456\" height=\"98\" loadlate=\"https://m.media-amazon.com/images/M/MV5BNGVjNWI4ZGUtNzE0MS00YTJmLWE0ZDctN2ZiYTk2YmI3NTYyXkEyXkFqcGdeQXVyMTkxNjUyNQ@@._V1_UX67_CR0,0,67,98_AL_.j\n"
     ]
    }
   ],
   "source": [
    "table = soup.find('div', attrs={'class':'lister-list'})\n",
    "print(table.prettify()[0:500])"
   ]
  },
  {
   "cell_type": "markdown",
   "metadata": {},
   "source": [
    "Kita akan mencari data per baris yang ada pada class lister-item mode-advanced dengan menggunakan looping untuk 7 film terpopuler."
   ]
  },
  {
   "cell_type": "code",
   "execution_count": 63,
   "metadata": {
    "ExecuteTime": {
     "end_time": "2020-01-13T05:12:24.008256Z",
     "start_time": "2020-01-13T05:12:23.980358Z"
    }
   },
   "outputs": [
    {
     "data": {
      "text/plain": [
       "[('Joker', 8.5, 59, 'mixed', 837909),\n",
       " ('Avengers: Endgame', 8.4, 78, 'favorable', 746044),\n",
       " ('Once Upon a Time... in Hollywood', 7.7, 83, 'favorable', 498514),\n",
       " ('Chernobyl', 9.4, 0, 'kosong', 485952),\n",
       " ('Gisaengchung', 8.6, 96, 'favorable', 457832),\n",
       " ('Captain Marvel', 6.9, 64, 'favorable', 420064),\n",
       " ('Knives Out', 7.9, 82, 'favorable', 360741)]"
      ]
     },
     "execution_count": 63,
     "metadata": {},
     "output_type": "execute_result"
    }
   ],
   "source": [
    "temp = [] #initiating a tuple\n",
    "\n",
    "for i in range(0, 7):\n",
    "    row = table.find_all('div', class_='lister-item mode-advanced')[i]\n",
    "    \n",
    "    #get judul\n",
    "    judul = row.find_all('a')[1].text\n",
    "    \n",
    "    #get IMDb rating then convert it to float datatype\n",
    "    IMDb = row.find_all('strong')[0].text\n",
    "    IMDb = float(IMDb)\n",
    "    \n",
    "    #get Metascore then convert to int datatype, jika tidak ada metascore nya, maka kita assign dengan 0\n",
    "    type = 'kosong'\n",
    "    meta = 0\n",
    "    if row.find('span', class_='metascore favorable') != None:\n",
    "        meta = int(row.find('span', class_='metascore favorable').text.strip())\n",
    "        type = 'favorable'\n",
    "    elif row.find('span', class_='metascore mixed') != None:\n",
    "        meta = int(row.find('span', class_='metascore mixed').text.strip())\n",
    "        type = 'mixed'\n",
    "    elif row.find('span', class_='metascore unfavorable') != None:\n",
    "        meta = int(row.find('span', class_='metascore mixed').text.strip())\n",
    "        type = 'unfavorable'\n",
    "        \n",
    "    #get Votes then convert to int\n",
    "    votes = row.find_all('span', attrs={\"name\": \"nv\"})[0].text\n",
    "    votes = int(votes.replace(',',''))\n",
    "    \n",
    "    temp.append((judul, IMDb, meta, type, votes))\n",
    "temp "
   ]
  },
  {
   "cell_type": "markdown",
   "metadata": {},
   "source": [
    "Kemudian kita akan memasukkan data yang sudah kita scrapping tadi kedalam dataframe"
   ]
  },
  {
   "cell_type": "code",
   "execution_count": 71,
   "metadata": {
    "ExecuteTime": {
     "end_time": "2020-01-13T05:12:41.517372Z",
     "start_time": "2020-01-13T05:12:29.130015Z"
    }
   },
   "outputs": [
    {
     "data": {
      "text/html": [
       "<div>\n",
       "<style scoped>\n",
       "    .dataframe tbody tr th:only-of-type {\n",
       "        vertical-align: middle;\n",
       "    }\n",
       "\n",
       "    .dataframe tbody tr th {\n",
       "        vertical-align: top;\n",
       "    }\n",
       "\n",
       "    .dataframe thead th {\n",
       "        text-align: right;\n",
       "    }\n",
       "</style>\n",
       "<table border=\"1\" class=\"dataframe\">\n",
       "  <thead>\n",
       "    <tr style=\"text-align: right;\">\n",
       "      <th></th>\n",
       "      <th>Judul</th>\n",
       "      <th>IMDb</th>\n",
       "      <th>metascore</th>\n",
       "      <th>type_metascore</th>\n",
       "      <th>Votes</th>\n",
       "    </tr>\n",
       "  </thead>\n",
       "  <tbody>\n",
       "    <tr>\n",
       "      <th>0</th>\n",
       "      <td>Joker</td>\n",
       "      <td>8.5</td>\n",
       "      <td>59</td>\n",
       "      <td>mixed</td>\n",
       "      <td>837909</td>\n",
       "    </tr>\n",
       "    <tr>\n",
       "      <th>1</th>\n",
       "      <td>Avengers: Endgame</td>\n",
       "      <td>8.4</td>\n",
       "      <td>78</td>\n",
       "      <td>favorable</td>\n",
       "      <td>746044</td>\n",
       "    </tr>\n",
       "    <tr>\n",
       "      <th>2</th>\n",
       "      <td>Once Upon a Time... in Hollywood</td>\n",
       "      <td>7.7</td>\n",
       "      <td>83</td>\n",
       "      <td>favorable</td>\n",
       "      <td>498514</td>\n",
       "    </tr>\n",
       "    <tr>\n",
       "      <th>3</th>\n",
       "      <td>Chernobyl</td>\n",
       "      <td>9.4</td>\n",
       "      <td>0</td>\n",
       "      <td>kosong</td>\n",
       "      <td>485952</td>\n",
       "    </tr>\n",
       "    <tr>\n",
       "      <th>4</th>\n",
       "      <td>Gisaengchung</td>\n",
       "      <td>8.6</td>\n",
       "      <td>96</td>\n",
       "      <td>favorable</td>\n",
       "      <td>457832</td>\n",
       "    </tr>\n",
       "    <tr>\n",
       "      <th>5</th>\n",
       "      <td>Captain Marvel</td>\n",
       "      <td>6.9</td>\n",
       "      <td>64</td>\n",
       "      <td>favorable</td>\n",
       "      <td>420064</td>\n",
       "    </tr>\n",
       "    <tr>\n",
       "      <th>6</th>\n",
       "      <td>Knives Out</td>\n",
       "      <td>7.9</td>\n",
       "      <td>82</td>\n",
       "      <td>favorable</td>\n",
       "      <td>360741</td>\n",
       "    </tr>\n",
       "  </tbody>\n",
       "</table>\n",
       "</div>"
      ],
      "text/plain": [
       "                              Judul  IMDb  metascore type_metascore   Votes\n",
       "0                             Joker   8.5         59          mixed  837909\n",
       "1                 Avengers: Endgame   8.4         78      favorable  746044\n",
       "2  Once Upon a Time... in Hollywood   7.7         83      favorable  498514\n",
       "3                         Chernobyl   9.4          0         kosong  485952\n",
       "4                      Gisaengchung   8.6         96      favorable  457832\n",
       "5                    Captain Marvel   6.9         64      favorable  420064\n",
       "6                        Knives Out   7.9         82      favorable  360741"
      ]
     },
     "execution_count": 71,
     "metadata": {},
     "output_type": "execute_result"
    }
   ],
   "source": [
    "import pandas as pd\n",
    "\n",
    "df = pd.DataFrame(temp, columns = ('Judul','IMDb', 'metascore', 'type_metascore', 'Votes'))\n",
    "df"
   ]
  },
  {
   "cell_type": "markdown",
   "metadata": {},
   "source": [
    "Lalu kita akan memastikan bahwa data type yang ada di dataframe kita sudah sesuai"
   ]
  },
  {
   "cell_type": "code",
   "execution_count": 69,
   "metadata": {},
   "outputs": [
    {
     "data": {
      "text/plain": [
       "Judul               object\n",
       "IMDb               float64\n",
       "metascore            int64\n",
       "type_metascore    category\n",
       "360741               int64\n",
       "dtype: object"
      ]
     },
     "execution_count": 69,
     "metadata": {},
     "output_type": "execute_result"
    }
   ],
   "source": [
    "df['type_metascore'] = df['type_metascore'].astype('category')\n",
    "df.dtypes"
   ]
  },
  {
   "cell_type": "markdown",
   "metadata": {},
   "source": [
    "Berikut adalah peringkat film terpopuler berdasarkan Votes yang masuk ke IMDb"
   ]
  },
  {
   "cell_type": "code",
   "execution_count": 79,
   "metadata": {
    "ExecuteTime": {
     "end_time": "2020-01-13T05:12:59.165559Z",
     "start_time": "2020-01-13T05:12:58.910012Z"
    }
   },
   "outputs": [
    {
     "data": {
      "text/plain": [
       "<AxesSubplot:ylabel='Judul'>"
      ]
     },
     "execution_count": 79,
     "metadata": {},
     "output_type": "execute_result"
    },
    {
     "data": {
      "image/png": "[encoded data removed]",
      "text/plain": [
       "<Figure size 432x288 with 1 Axes>"
      ]
     },
     "metadata": {
      "needs_background": "light"
     },
     "output_type": "display_data"
    }
   ],
   "source": [
    "df[::-1].plot(x='Judul', y='Votes', kind='barh')"
   ]
  },
  {
   "cell_type": "code",
   "execution_count": 78,
   "metadata": {
    "ExecuteTime": {
     "end_time": "2020-01-13T05:20:56.208237Z",
     "start_time": "2020-01-13T05:20:56.076043Z"
    }
   },
   "outputs": [
    {
     "data": {
      "text/html": [
       "<div>\n",
       "<style scoped>\n",
       "    .dataframe tbody tr th:only-of-type {\n",
       "        vertical-align: middle;\n",
       "    }\n",
       "\n",
       "    .dataframe tbody tr th {\n",
       "        vertical-align: top;\n",
       "    }\n",
       "\n",
       "    .dataframe thead th {\n",
       "        text-align: right;\n",
       "    }\n",
       "</style>\n",
       "<table border=\"1\" class=\"dataframe\">\n",
       "  <thead>\n",
       "    <tr style=\"text-align: right;\">\n",
       "      <th></th>\n",
       "      <th>Judul</th>\n",
       "      <th>IMDb</th>\n",
       "      <th>metascore</th>\n",
       "      <th>type_metascore</th>\n",
       "      <th>Votes</th>\n",
       "    </tr>\n",
       "  </thead>\n",
       "  <tbody>\n",
       "    <tr>\n",
       "      <th>0</th>\n",
       "      <td>Joker</td>\n",
       "      <td>8.5</td>\n",
       "      <td>59</td>\n",
       "      <td>mixed</td>\n",
       "      <td>837909</td>\n",
       "    </tr>\n",
       "    <tr>\n",
       "      <th>1</th>\n",
       "      <td>Avengers: Endgame</td>\n",
       "      <td>8.4</td>\n",
       "      <td>78</td>\n",
       "      <td>favorable</td>\n",
       "      <td>746044</td>\n",
       "    </tr>\n",
       "    <tr>\n",
       "      <th>2</th>\n",
       "      <td>Once Upon a Time... in Hollywood</td>\n",
       "      <td>7.7</td>\n",
       "      <td>83</td>\n",
       "      <td>favorable</td>\n",
       "      <td>498514</td>\n",
       "    </tr>\n",
       "    <tr>\n",
       "      <th>3</th>\n",
       "      <td>Chernobyl</td>\n",
       "      <td>9.4</td>\n",
       "      <td>0</td>\n",
       "      <td>kosong</td>\n",
       "      <td>485952</td>\n",
       "    </tr>\n",
       "    <tr>\n",
       "      <th>4</th>\n",
       "      <td>Gisaengchung</td>\n",
       "      <td>8.6</td>\n",
       "      <td>96</td>\n",
       "      <td>favorable</td>\n",
       "      <td>457832</td>\n",
       "    </tr>\n",
       "    <tr>\n",
       "      <th>5</th>\n",
       "      <td>Captain Marvel</td>\n",
       "      <td>6.9</td>\n",
       "      <td>64</td>\n",
       "      <td>favorable</td>\n",
       "      <td>420064</td>\n",
       "    </tr>\n",
       "    <tr>\n",
       "      <th>6</th>\n",
       "      <td>Knives Out</td>\n",
       "      <td>7.9</td>\n",
       "      <td>82</td>\n",
       "      <td>favorable</td>\n",
       "      <td>360741</td>\n",
       "    </tr>\n",
       "  </tbody>\n",
       "</table>\n",
       "</div>"
      ],
      "text/plain": [
       "                              Judul  IMDb  metascore type_metascore   Votes\n",
       "0                             Joker   8.5         59          mixed  837909\n",
       "1                 Avengers: Endgame   8.4         78      favorable  746044\n",
       "2  Once Upon a Time... in Hollywood   7.7         83      favorable  498514\n",
       "3                         Chernobyl   9.4          0         kosong  485952\n",
       "4                      Gisaengchung   8.6         96      favorable  457832\n",
       "5                    Captain Marvel   6.9         64      favorable  420064\n",
       "6                        Knives Out   7.9         82      favorable  360741"
      ]
     },
     "execution_count": 78,
     "metadata": {},
     "output_type": "execute_result"
    }
   ],
   "source": [
    "df"
   ]
  },
  {
   "cell_type": "markdown",
   "metadata": {},
   "source": [
    "Hal menarik yang dapat kita lihat diatas, dari ketujuh film terpopuler diatas, Joker yang merupakan film terpopuler justru  mendapat metascore yang relatif lebih rendah, sementara untuk film lainnya (selain Chernobyl yang tidak ada score metascore nya) mendapatkan rating favorable.\n",
    "\n",
    "Secara umum rating IMDb dan metascore cukup mirip, kecuali untuk Film Joker. Hal ini mungkin dipengaruhi oleh sistem rating pada kedua website yang mengumpulkan rating dari user. Kesimpulan lanjutan baru dapat kita tarik setelah kita mendapatkan informasi tambahan dari userbase di kedua website (persebaran usia, negara, dan sebagainya)."
   ]
  }
 ],
 "metadata": {
  "kernelspec": {
   "display_name": "scrapping",
   "language": "python",
   "name": "scrapping"
  },
  "language_info": {
   "codemirror_mode": {
    "name": "ipython",
    "version": 3
   },
   "file_extension": ".py",
   "mimetype": "text/x-python",
   "name": "python",
   "nbconvert_exporter": "python",
   "pygments_lexer": "ipython3",
   "version": "3.8.5"
  },
  "toc": {
   "base_numbering": 1,
   "nav_menu": {},
   "number_sections": true,
   "sideBar": true,
   "skip_h1_title": false,
   "title_cell": "Table of Contents",
   "title_sidebar": "Contents",
   "toc_cell": false,
   "toc_position": {
    "height": "calc(100% - 180px)",
    "left": "10px",
    "top": "150px",
    "width": "487.619px"
   },
   "toc_section_display": true,
   "toc_window_display": true
  }
 },
 "nbformat": 4,
 "nbformat_minor": 2
}
